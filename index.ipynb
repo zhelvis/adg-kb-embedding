{
 "cells": [
  {
   "attachments": {},
   "cell_type": "markdown",
   "metadata": {},
   "source": [
    "Load environment variables from .env file"
   ]
  },
  {
   "cell_type": "code",
   "execution_count": 1,
   "metadata": {},
   "outputs": [
    {
     "data": {
      "text/plain": [
       "True"
      ]
     },
     "execution_count": 1,
     "metadata": {},
     "output_type": "execute_result"
    }
   ],
   "source": [
    "from dotenv import load_dotenv\n",
    "load_dotenv()"
   ]
  },
  {
   "attachments": {},
   "cell_type": "markdown",
   "metadata": {},
   "source": [
    "Download md files from Adguard knowledge base repo"
   ]
  },
  {
   "cell_type": "code",
   "execution_count": 2,
   "metadata": {},
   "outputs": [
    {
     "name": "stdout",
     "output_type": "stream",
     "text": [
      "Downloaded docs/intro.md\n",
      "Downloaded docs/adguard-browser-extension/installation.md\n",
      "Downloaded docs/adguard-browser-extension/integration-mode.md\n",
      "Downloaded docs/adguard-browser-extension/overview.md\n",
      "Downloaded docs/adguard-content-blocker/installation.md\n",
      "Downloaded docs/adguard-content-blocker/overview.md\n",
      "Downloaded docs/adguard-for-android/installation.md\n",
      "Downloaded docs/adguard-for-android/overview.md\n",
      "Downloaded docs/adguard-for-ios/installation.md\n",
      "Downloaded docs/adguard-for-ios/overview.md\n",
      "Downloaded docs/adguard-for-ios/web-extension.md\n",
      "Downloaded docs/adguard-for-mac/browser-assistant.md\n",
      "Downloaded docs/adguard-for-mac/installation.md\n",
      "Downloaded docs/adguard-for-mac/overview.md\n",
      "Downloaded docs/adguard-for-safari/installation.md\n",
      "Downloaded docs/adguard-for-safari/overview.md\n",
      "Downloaded docs/adguard-for-windows/admins-documentation.md\n",
      "Downloaded docs/adguard-for-windows/browser-assistant.md\n",
      "Downloaded docs/adguard-for-windows/installation.md\n",
      "Downloaded docs/adguard-for-windows/overview.md\n",
      "Downloaded docs/general/browsing-security.md\n",
      "Downloaded docs/general/how-to-install.md\n",
      "Downloaded docs/general/stealth-mode.md\n",
      "Downloaded docs/general/userscripts.md\n",
      "Downloaded docs/guides/adware.md\n",
      "Downloaded docs/guides/collect-har-file.md\n",
      "Downloaded docs/guides/proxy-certificate.md\n",
      "Downloaded docs/guides/report-bugs.md\n",
      "Downloaded docs/guides/report-website.md\n",
      "Downloaded docs/guides/take-screenshot.md\n",
      "Downloaded docs/miscellaneous/acknowledgements.md\n",
      "Downloaded docs/adguard-for-android/solving-problems/background-work.md\n",
      "Downloaded docs/adguard-for-android/solving-problems/battery.md\n",
      "Downloaded docs/adguard-for-android/solving-problems/compatibility-issues.md\n",
      "Downloaded docs/adguard-for-android/solving-problems/firefox-certificates.md\n",
      "Downloaded docs/adguard-for-android/solving-problems/har.md\n",
      "Downloaded docs/adguard-for-android/solving-problems/https-certificate-for-rooted.md\n",
      "Downloaded docs/adguard-for-android/solving-problems/log.md\n",
      "Downloaded docs/adguard-for-android/solving-problems/logcat.md\n",
      "Downloaded docs/adguard-for-android/solving-problems/low-level-settings.md\n",
      "Downloaded docs/adguard-for-android/solving-problems/manual-certificate.md\n",
      "Downloaded docs/adguard-for-android/solving-problems/multiple-profiles-issue.md\n",
      "Downloaded docs/adguard-for-android/solving-problems/outbound-proxy.md\n",
      "Downloaded docs/adguard-for-android/solving-problems/restricted-profile.md\n",
      "Downloaded docs/adguard-for-android/solving-problems/samsungpay-with-adguard-in-south-korea.md\n",
      "Downloaded docs/adguard-for-android/solving-problems/tasker.md\n",
      "Downloaded docs/adguard-for-android/solving-problems/youtube-ads.md\n",
      "Downloaded docs/adguard-for-ios/solving-problems/block-youtube-ads.md\n",
      "Downloaded docs/adguard-for-ios/solving-problems/facetime-compatibility-issues.md\n",
      "Downloaded docs/adguard-for-ios/solving-problems/low-level-settings.md\n",
      "Downloaded docs/adguard-for-ios/solving-problems/premium-activation.md\n",
      "Downloaded docs/adguard-for-ios/solving-problems/system-wide-filtering.md\n",
      "Downloaded docs/adguard-for-mac/solving-problems/advanced-settings.md\n",
      "Downloaded docs/adguard-for-mac/solving-problems/big-sur-issues.md\n",
      "Downloaded docs/adguard-for-mac/solving-problems/high-sierra-compatibility.md\n",
      "Downloaded docs/adguard-for-mac/solving-problems/icloud-private-relay.md\n",
      "Downloaded docs/adguard-for-mac/solving-problems/installation-issues.md\n",
      "Downloaded docs/adguard-for-mac/solving-problems/launch-issues.md\n",
      "Downloaded docs/adguard-for-mac/solving-problems/manual-certificate-installation.md\n",
      "Downloaded docs/adguard-for-mac/solving-problems/protect-mail-activity.md\n",
      "Downloaded docs/adguard-for-mac/solving-problems/protection-cannot-be-enabled.md\n",
      "Downloaded docs/adguard-for-mac/solving-problems/tor-filtering.md\n",
      "Downloaded docs/adguard-for-windows/solving-problems/adguard-logs.md\n",
      "Downloaded docs/adguard-for-windows/solving-problems/common-installer-errors.md\n",
      "Downloaded docs/adguard-for-windows/solving-problems/connection-not-trusted.md\n",
      "Downloaded docs/adguard-for-windows/solving-problems/dns-leaks.md\n",
      "Downloaded docs/adguard-for-windows/solving-problems/dump-file.md\n",
      "Downloaded docs/adguard-for-windows/solving-problems/installation-logs.md\n",
      "Downloaded docs/adguard-for-windows/solving-problems/known-issues.md\n",
      "Downloaded docs/adguard-for-windows/solving-problems/low-level-settings.md\n",
      "Downloaded docs/adguard-for-windows/solving-problems/system-logs.md\n",
      "Downloaded docs/adguard-for-windows/solving-problems/wfp-driver.md\n",
      "Downloaded docs/general/account/2fa.md\n",
      "Downloaded docs/general/account/features.md\n",
      "Downloaded docs/general/account/register.md\n",
      "Downloaded docs/general/ad-filtering/adguard-filters.md\n",
      "Downloaded docs/general/ad-filtering/create-own-filters.md\n",
      "Downloaded docs/general/ad-filtering/filter-policy.md\n",
      "Downloaded docs/general/ad-filtering/how-ad-blocking-works.md\n",
      "Downloaded docs/general/ad-filtering/search-ads.md\n",
      "Downloaded docs/general/ad-filtering/tracking-filter-statistics.md\n",
      "Downloaded docs/general/https-filtering/known-issues.md\n",
      "Downloaded docs/general/https-filtering/local-adguard-com-domain.md\n",
      "Downloaded docs/general/https-filtering/what-is-https-filtering.md\n",
      "Downloaded docs/general/license/activation.md\n",
      "Downloaded docs/general/license/cancel-refund.md\n",
      "Downloaded docs/general/license/legacy.md\n",
      "Downloaded docs/general/license/payment-options.md\n",
      "Downloaded docs/general/license/transfer.md\n",
      "Downloaded docs/general/license/what-is.md\n",
      "Downloaded docs/miscellaneous/contribute/beta-testing.md\n",
      "Downloaded docs/miscellaneous/contribute/filters.md\n",
      "Downloaded docs/miscellaneous/contribute/updating-knowledge-base.md\n",
      "Downloaded docs/miscellaneous/contribute/writing-about-adguard.md\n",
      "Downloaded docs/miscellaneous/contribute/translate/become-translator.md\n",
      "Downloaded docs/miscellaneous/contribute/translate/guidelines.md\n",
      "Downloaded docs/miscellaneous/contribute/translate/plural-forms.md\n",
      "Downloaded docs/miscellaneous/contribute/translate/program.md\n",
      "Downloaded docs/miscellaneous/contribute/translate/rewards.md\n",
      "Downloaded docs/miscellaneous/contribute/translate/translation-priority.md\n"
     ]
    }
   ],
   "source": [
    "import os\n",
    "# github v3 API\n",
    "from github import Github\n",
    "\n",
    "\n",
    "github = Github(os.getenv('GITHUB_API_TOKEN'))\n",
    "\n",
    "repo_name = \"AdguardTeam/KnowledgeBase\"\n",
    "repo_src_dir = \"docs\"\n",
    "data_dir = \"data\"\n",
    "\n",
    "repo = github.get_repo(repo_name)\n",
    "\n",
    "# if data_dir does not exist, create it\n",
    "if not os.path.exists(data_dir):\n",
    "    os.mkdir(data_dir)\n",
    "    \n",
    "contents = repo.get_contents(repo_src_dir)\n",
    "\n",
    "for content in contents:\n",
    "    if content.type == \"dir\":\n",
    "        contents.extend(repo.get_contents(content.path))\n",
    "    elif content.type == \"file\" and content.path.endswith(\".md\"):\n",
    "        with open(os.path.join(os.getcwd(), data_dir, content.sha), 'wb') as f:\n",
    "            f.write(content.decoded_content)\n",
    "            print('Downloaded ' + content.path)         "
   ]
  },
  {
   "attachments": {},
   "cell_type": "markdown",
   "metadata": {},
   "source": [
    "Preprocess text data from markdown files and save it to a CSV file"
   ]
  },
  {
   "cell_type": "code",
   "execution_count": 3,
   "metadata": {},
   "outputs": [
    {
     "data": {
      "text/html": [
       "<div>\n",
       "<style scoped>\n",
       "    .dataframe tbody tr th:only-of-type {\n",
       "        vertical-align: middle;\n",
       "    }\n",
       "\n",
       "    .dataframe tbody tr th {\n",
       "        vertical-align: top;\n",
       "    }\n",
       "\n",
       "    .dataframe thead th {\n",
       "        text-align: right;\n",
       "    }\n",
       "</style>\n",
       "<table border=\"1\" class=\"dataframe\">\n",
       "  <thead>\n",
       "    <tr style=\"text-align: right;\">\n",
       "      <th></th>\n",
       "      <th>text</th>\n",
       "    </tr>\n",
       "  </thead>\n",
       "  <tbody>\n",
       "    <tr>\n",
       "      <th>0</th>\n",
       "      <td>How to reach the Low-level settings Changing L...</td>\n",
       "    </tr>\n",
       "    <tr>\n",
       "      <th>1</th>\n",
       "      <td>There are five major AdGuard projects on Crowd...</td>\n",
       "    </tr>\n",
       "    <tr>\n",
       "      <th>2</th>\n",
       "      <td>How to install AdGuard Browser extension for G...</td>\n",
       "    </tr>\n",
       "    <tr>\n",
       "      <th>3</th>\n",
       "      <td>We have written this article to avoid confusio...</td>\n",
       "    </tr>\n",
       "    <tr>\n",
       "      <th>4</th>\n",
       "      <td>In a nutshell Apple's Mail app now uses a prox...</td>\n",
       "    </tr>\n",
       "    <tr>\n",
       "      <th>5</th>\n",
       "      <td>This page describes the features and details o...</td>\n",
       "    </tr>\n",
       "    <tr>\n",
       "      <th>6</th>\n",
       "      <td>AdGuard for Mac, as one of our main staples, m...</td>\n",
       "    </tr>\n",
       "    <tr>\n",
       "      <th>7</th>\n",
       "      <td>Previously known as low-level settings, Advanc...</td>\n",
       "    </tr>\n",
       "    <tr>\n",
       "      <th>8</th>\n",
       "      <td>What is AdGuard license A license is permissio...</td>\n",
       "    </tr>\n",
       "    <tr>\n",
       "      <th>9</th>\n",
       "      <td>The owners of phones, tablets, or TVs running ...</td>\n",
       "    </tr>\n",
       "  </tbody>\n",
       "</table>\n",
       "</div>"
      ],
      "text/plain": [
       "                                                text\n",
       "0  How to reach the Low-level settings Changing L...\n",
       "1  There are five major AdGuard projects on Crowd...\n",
       "2  How to install AdGuard Browser extension for G...\n",
       "3  We have written this article to avoid confusio...\n",
       "4  In a nutshell Apple's Mail app now uses a prox...\n",
       "5  This page describes the features and details o...\n",
       "6  AdGuard for Mac, as one of our main staples, m...\n",
       "7  Previously known as low-level settings, Advanc...\n",
       "8  What is AdGuard license A license is permissio...\n",
       "9  The owners of phones, tablets, or TVs running ..."
      ]
     },
     "execution_count": 3,
     "metadata": {},
     "output_type": "execute_result"
    }
   ],
   "source": [
    "import re\n",
    "# HTML parser\n",
    "from bs4 import BeautifulSoup\n",
    "# Markdown parser\n",
    "from marko import Markdown\n",
    "# Github flavored markdown parser extension\n",
    "from marko.ext.gfm import GFM\n",
    "import pandas as pd\n",
    "\n",
    "dist_dir = \"dist\"\n",
    "text_csv_file_path = \"scraped.csv\"\n",
    "\n",
    "markdown = Markdown(extensions=[GFM()])\n",
    "\n",
    "texts=[]\n",
    "\n",
    "for file in os.listdir(data_dir):\n",
    "    with open(os.path.join(data_dir, file), \"r\") as f:\n",
    "        # Omit the first 4 lines of markdown front matter\n",
    "        for i in range(4):\n",
    "             f.readline()\n",
    "        \n",
    "        # read the rest of the file\n",
    "        markdown_string = f.read()\n",
    "\n",
    "        # md -> html -> text since BeautifulSoup can extract text cleanly\n",
    "        html = markdown.convert(markdown_string)\n",
    "\n",
    "        # extract text\n",
    "        soup = BeautifulSoup(html, \"html.parser\")\n",
    "\n",
    "        text = ''.join(soup.findAll(string=True))\n",
    "\n",
    "        # remove newlines\n",
    "        text = text.replace('\\n', ' ')\n",
    "\n",
    "        # remove extra whitespaces\n",
    "        text = re.sub('\\s+', ' ', text)\n",
    "\n",
    "        texts.append(text)\n",
    "\n",
    "df = pd.DataFrame(texts, columns=[\"text\"])\n",
    "\n",
    "\n",
    "# if dist_dir does not exist, create it\n",
    "if not os.path.exists(dist_dir):\n",
    "    os.mkdir(dist_dir)\n",
    "\n",
    "df.to_csv(os.path.join(dist_dir, text_csv_file_path))\n",
    "df.head(10)"
   ]
  },
  {
   "cell_type": "code",
   "execution_count": 5,
   "metadata": {},
   "outputs": [
    {
     "data": {
      "text/plain": [
       "<Axes: >"
      ]
     },
     "execution_count": 5,
     "metadata": {},
     "output_type": "execute_result"
    },
    {
     "data": {
      "image/png": "[encoded data removed]",
      "text/plain": [
       "<Figure size 640x480 with 1 Axes>"
      ]
     },
     "metadata": {},
     "output_type": "display_data"
    }
   ],
   "source": [
    "\n",
    "import tiktoken\n",
    "\n",
    "# Load the cl100k_base tokenizer which is designed to work with the ada-002 model\n",
    "tokenizer = tiktoken.get_encoding(\"cl100k_base\")\n",
    "\n",
    "df = pd.read_csv(os.path.join(dist_dir, text_csv_file_path), index_col=0)\n",
    "df.columns = ['text']\n",
    "\n",
    "# Tokenize the text and save the number of tokens to a new column\n",
    "df['n_tokens'] = df.text.apply(lambda x: len(tokenizer.encode(x)))\n",
    "\n",
    "# Visualize the distribution of the number of tokens per row using a histogram\n",
    "df.n_tokens.hist()"
   ]
  },
  {
   "cell_type": "code",
   "execution_count": 6,
   "metadata": {},
   "outputs": [],
   "source": [
    "max_tokens = 500\n",
    "\n",
    "# Function to split the text into chunks of a maximum number of tokens\n",
    "def split_text(text: str, max_tokens = max_tokens):\n",
    "\n",
    "    # Split the text into sentences\n",
    "    sentences = text.split('. ')\n",
    "\n",
    "    # Get the number of tokens for each sentence\n",
    "    n_tokens = [len(tokenizer.encode(\" \" + sentence)) for sentence in sentences]\n",
    "    \n",
    "    chunks = []\n",
    "    tokens_so_far = 0\n",
    "    chunk = []\n",
    "\n",
    "    # Loop through the sentences and tokens joined together in a tuple\n",
    "    for sentence, token in zip(sentences, n_tokens):\n",
    "\n",
    "        # If the number of tokens so far plus the number of tokens in the current sentence is greater \n",
    "        # than the max number of tokens, then add the chunk to the list of chunks and reset\n",
    "        # the chunk and tokens so far\n",
    "        if tokens_so_far + token > max_tokens:\n",
    "            chunks.append(\". \".join(chunk) + \".\")\n",
    "            chunk = []\n",
    "            tokens_so_far = 0\n",
    "\n",
    "        # If the number of tokens in the current sentence is greater than the max number of \n",
    "        # tokens, go to the next sentence\n",
    "        if token > max_tokens:\n",
    "            continue\n",
    "\n",
    "        # Otherwise, add the sentence to the chunk and add the number of tokens to the total\n",
    "        chunk.append(sentence)\n",
    "        tokens_so_far += token + 1\n",
    "\n",
    "    return chunks\n",
    "    \n",
    "\n",
    "shortened = []\n",
    "\n",
    "# Loop through the dataframe\n",
    "for row in df.iterrows():\n",
    "\n",
    "    # If the text is None, go to the next row\n",
    "    if row[1]['text'] is None:\n",
    "        continue\n",
    "\n",
    "    # If the number of tokens is greater than the max number of tokens, split the text into chunks\n",
    "    if row[1]['n_tokens'] > max_tokens:\n",
    "        shortened += split_text(row[1]['text'])\n",
    "    \n",
    "    # Otherwise, add the text to the list of shortened texts\n",
    "    else:\n",
    "        shortened.append( row[1]['text'] )"
   ]
  },
  {
   "attachments": {},
   "cell_type": "markdown",
   "metadata": {},
   "source": [
    "Visualising the updated histogram again can help to confirm that the lines have been successfully split into chunks:"
   ]
  },
  {
   "cell_type": "code",
   "execution_count": 7,
   "metadata": {},
   "outputs": [
    {
     "data": {
      "text/plain": [
       "<Axes: >"
      ]
     },
     "execution_count": 7,
     "metadata": {},
     "output_type": "execute_result"
    },
    {
     "data": {
      "image/png": "[encoded data removed]",
      "text/plain": [
       "<Figure size 640x480 with 1 Axes>"
      ]
     },
     "metadata": {},
     "output_type": "display_data"
    }
   ],
   "source": [
    "df = pd.DataFrame(shortened, columns = ['text'])\n",
    "df['n_tokens'] = df.text.apply(lambda x: len(tokenizer.encode(x)))\n",
    "df.n_tokens.hist()"
   ]
  },
  {
   "attachments": {},
   "cell_type": "markdown",
   "metadata": {},
   "source": [
    "Create the chunked text embeddings via the OpenAI API, specifying the use of the new `text-embedding-ada-002` model:"
   ]
  },
  {
   "cell_type": "code",
   "execution_count": 8,
   "metadata": {},
   "outputs": [
    {
     "data": {
      "text/html": [
       "<div>\n",
       "<style scoped>\n",
       "    .dataframe tbody tr th:only-of-type {\n",
       "        vertical-align: middle;\n",
       "    }\n",
       "\n",
       "    .dataframe tbody tr th {\n",
       "        vertical-align: top;\n",
       "    }\n",
       "\n",
       "    .dataframe thead th {\n",
       "        text-align: right;\n",
       "    }\n",
       "</style>\n",
       "<table border=\"1\" class=\"dataframe\">\n",
       "  <thead>\n",
       "    <tr style=\"text-align: right;\">\n",
       "      <th></th>\n",
       "      <th>text</th>\n",
       "      <th>n_tokens</th>\n",
       "      <th>embeddings</th>\n",
       "    </tr>\n",
       "  </thead>\n",
       "  <tbody>\n",
       "    <tr>\n",
       "      <th>0</th>\n",
       "      <td>How to reach the Low-level settings Changing L...</td>\n",
       "      <td>491</td>\n",
       "      <td>[0.013656668365001678, 0.014598741196095943, 0...</td>\n",
       "    </tr>\n",
       "    <tr>\n",
       "      <th>1</th>\n",
       "      <td>There are five major AdGuard projects on Crowd...</td>\n",
       "      <td>281</td>\n",
       "      <td>[0.0067566619254648685, 0.004292031284421682, ...</td>\n",
       "    </tr>\n",
       "    <tr>\n",
       "      <th>2</th>\n",
       "      <td>How to install AdGuard Browser extension for G...</td>\n",
       "      <td>282</td>\n",
       "      <td>[0.02430276945233345, 0.01311484444886446, 0.0...</td>\n",
       "    </tr>\n",
       "    <tr>\n",
       "      <th>3</th>\n",
       "      <td>We have written this article to avoid confusio...</td>\n",
       "      <td>487</td>\n",
       "      <td>[0.021347705274820328, 0.0033652286510914564, ...</td>\n",
       "    </tr>\n",
       "    <tr>\n",
       "      <th>4</th>\n",
       "      <td>In a nutshell Apple's Mail app now uses a prox...</td>\n",
       "      <td>452</td>\n",
       "      <td>[-0.004872484598308802, -0.0064920708537101746...</td>\n",
       "    </tr>\n",
       "  </tbody>\n",
       "</table>\n",
       "</div>"
      ],
      "text/plain": [
       "                                                text  n_tokens   \n",
       "0  How to reach the Low-level settings Changing L...       491  \\\n",
       "1  There are five major AdGuard projects on Crowd...       281   \n",
       "2  How to install AdGuard Browser extension for G...       282   \n",
       "3  We have written this article to avoid confusio...       487   \n",
       "4  In a nutshell Apple's Mail app now uses a prox...       452   \n",
       "\n",
       "                                          embeddings  \n",
       "0  [0.013656668365001678, 0.014598741196095943, 0...  \n",
       "1  [0.0067566619254648685, 0.004292031284421682, ...  \n",
       "2  [0.02430276945233345, 0.01311484444886446, 0.0...  \n",
       "3  [0.021347705274820328, 0.0033652286510914564, ...  \n",
       "4  [-0.004872484598308802, -0.0064920708537101746...  "
      ]
     },
     "execution_count": 8,
     "metadata": {},
     "output_type": "execute_result"
    }
   ],
   "source": [
    "import openai\n",
    "\n",
    "openai.api_key = os.getenv('OPENAI_API_KEY')\n",
    "\n",
    "embedding_csv_file_name = \"embeddings.csv\"\n",
    "\n",
    "df['embeddings'] = df.text.apply(lambda x: openai.Embedding.create(input=x, engine='text-embedding-ada-002')['data'][0]['embedding'])\n",
    "df.to_csv(os.path.join(dist_dir, embedding_csv_file_name))\n",
    "df.head()"
   ]
  },
  {
   "cell_type": "code",
   "execution_count": 9,
   "metadata": {},
   "outputs": [
    {
     "data": {
      "text/html": [
       "<div>\n",
       "<style scoped>\n",
       "    .dataframe tbody tr th:only-of-type {\n",
       "        vertical-align: middle;\n",
       "    }\n",
       "\n",
       "    .dataframe tbody tr th {\n",
       "        vertical-align: top;\n",
       "    }\n",
       "\n",
       "    .dataframe thead th {\n",
       "        text-align: right;\n",
       "    }\n",
       "</style>\n",
       "<table border=\"1\" class=\"dataframe\">\n",
       "  <thead>\n",
       "    <tr style=\"text-align: right;\">\n",
       "      <th></th>\n",
       "      <th>text</th>\n",
       "      <th>n_tokens</th>\n",
       "      <th>embeddings</th>\n",
       "    </tr>\n",
       "  </thead>\n",
       "  <tbody>\n",
       "    <tr>\n",
       "      <th>0</th>\n",
       "      <td>How to reach the Low-level settings Changing L...</td>\n",
       "      <td>491</td>\n",
       "      <td>[0.013656668365001678, 0.014598741196095943, 0...</td>\n",
       "    </tr>\n",
       "    <tr>\n",
       "      <th>1</th>\n",
       "      <td>There are five major AdGuard projects on Crowd...</td>\n",
       "      <td>281</td>\n",
       "      <td>[0.0067566619254648685, 0.004292031284421682, ...</td>\n",
       "    </tr>\n",
       "    <tr>\n",
       "      <th>2</th>\n",
       "      <td>How to install AdGuard Browser extension for G...</td>\n",
       "      <td>282</td>\n",
       "      <td>[0.02430276945233345, 0.01311484444886446, 0.0...</td>\n",
       "    </tr>\n",
       "    <tr>\n",
       "      <th>3</th>\n",
       "      <td>We have written this article to avoid confusio...</td>\n",
       "      <td>487</td>\n",
       "      <td>[0.021347705274820328, 0.0033652286510914564, ...</td>\n",
       "    </tr>\n",
       "    <tr>\n",
       "      <th>4</th>\n",
       "      <td>In a nutshell Apple's Mail app now uses a prox...</td>\n",
       "      <td>452</td>\n",
       "      <td>[-0.004872484598308802, -0.0064920708537101746...</td>\n",
       "    </tr>\n",
       "  </tbody>\n",
       "</table>\n",
       "</div>"
      ],
      "text/plain": [
       "                                                text  n_tokens   \n",
       "0  How to reach the Low-level settings Changing L...       491  \\\n",
       "1  There are five major AdGuard projects on Crowd...       281   \n",
       "2  How to install AdGuard Browser extension for G...       282   \n",
       "3  We have written this article to avoid confusio...       487   \n",
       "4  In a nutshell Apple's Mail app now uses a prox...       452   \n",
       "\n",
       "                                          embeddings  \n",
       "0  [0.013656668365001678, 0.014598741196095943, 0...  \n",
       "1  [0.0067566619254648685, 0.004292031284421682, ...  \n",
       "2  [0.02430276945233345, 0.01311484444886446, 0.0...  \n",
       "3  [0.021347705274820328, 0.0033652286510914564, ...  \n",
       "4  [-0.004872484598308802, -0.0064920708537101746...  "
      ]
     },
     "execution_count": 9,
     "metadata": {},
     "output_type": "execute_result"
    }
   ],
   "source": [
    "import numpy as np\n",
    "\n",
    "df=pd.read_csv(os.path.join(dist_dir, embedding_csv_file_name), index_col=0)\n",
    "df['embeddings'] = df['embeddings'].apply(eval).apply(np.array)\n",
    "\n",
    "df.head()"
   ]
  },
  {
   "cell_type": "code",
   "execution_count": 13,
   "metadata": {},
   "outputs": [],
   "source": [
    "from openai.embeddings_utils import distances_from_embeddings\n",
    "\n",
    "max_question_len=1800\n",
    "\n",
    "# Create a context for a question by finding the most similar context from the dataframe\n",
    "def create_context(question: str, df: pd.DataFrame):\n",
    "    # Get the embeddings for the question\n",
    "    q_embeddings = openai.Embedding.create(input=question, engine='text-embedding-ada-002')['data'][0]['embedding']\n",
    "\n",
    "    # Get the distances from the embeddings\n",
    "    df['distances'] = distances_from_embeddings(q_embeddings, df['embeddings'].values, distance_metric='cosine')\n",
    "\n",
    "\n",
    "    returns = []\n",
    "    current_len = 0\n",
    "\n",
    "    # Sort by distance and add the text to the context until the context is too long\n",
    "    for row in df.sort_values('distances', ascending=True).iterrows():\n",
    "        \n",
    "        # Add the length of the text to the current length\n",
    "        current_len += row['n_tokens'] + 4\n",
    "        \n",
    "        # If the context is too long, break\n",
    "        if current_len > max_question_len:\n",
    "            break\n",
    "        \n",
    "        # Else add it to the text that is being returned\n",
    "        returns.append(row[\"text\"])\n",
    "\n",
    "    # Return the context\n",
    "    return \"\\n\\n###\\n\\n\".join(returns)"
   ]
  },
  {
   "cell_type": "code",
   "execution_count": 14,
   "metadata": {},
   "outputs": [],
   "source": [
    "# Answer a question based on the most similar context from the dataframe texts\n",
    "def answer_question(question: str, df: pd.DataFrame):\n",
    "    context = create_context(question, df)\n",
    "\n",
    "    try:\n",
    "        # Create a completions using the question and context\n",
    "        response = openai.Completion.create(\n",
    "            model=\"text-davinci-003\",\n",
    "            prompt=f\"Answer the question based on the context below, and if the question can't be answered based on the context, say \\\"I don't know\\\"\\n\\nContext: {context}\\n\\n---\\n\\nQuestion: {question}\\nAnswer:\",\n",
    "            temperature=0,\n",
    "            max_tokens=150,\n",
    "            top_p=1,\n",
    "            frequency_penalty=0,\n",
    "            presence_penalty=0,\n",
    "            stop=None,\n",
    "           \n",
    "        )\n",
    "        return response[\"choices\"][0][\"text\"].strip()\n",
    "    except Exception as e:\n",
    "        print(e)\n",
    "        return \"\""
   ]
  },
  {
   "cell_type": "code",
   "execution_count": 16,
   "metadata": {},
   "outputs": [
    {
     "data": {
      "text/plain": [
       "\"I don't know.\""
      ]
     },
     "execution_count": 16,
     "metadata": {},
     "output_type": "execute_result"
    }
   ],
   "source": [
    "answer_question(\"What day is it?\", df)"
   ]
  },
  {
   "cell_type": "code",
   "execution_count": 17,
   "metadata": {},
   "outputs": [
    {
     "data": {
      "text/plain": [
       "\"AdGuard Browser extension is a free extension that works in five popular browsers: Chrome, Firefox, Edge, Opera, and Yandex Browser. It provides basic ad-blocking features and can be found in the browser’s online store or on AdGuard's official website. It also offers additional features such as DNS filtering, Parental Control, Filtering log, and more.\""
      ]
     },
     "execution_count": 17,
     "metadata": {},
     "output_type": "execute_result"
    }
   ],
   "source": [
    "answer_question(\"What is Adguard browser extension?\", df)"
   ]
  }
 ],
 "metadata": {
  "kernelspec": {
   "display_name": "Python 3",
   "language": "python",
   "name": "python3"
  },
  "language_info": {
   "codemirror_mode": {
    "name": "ipython",
    "version": 3
   },
   "file_extension": ".py",
   "mimetype": "text/x-python",
   "name": "python",
   "nbconvert_exporter": "python",
   "pygments_lexer": "ipython3",
   "version": "3.9.6"
  },
  "orig_nbformat": 4
 },
 "nbformat": 4,
 "nbformat_minor": 2
}
